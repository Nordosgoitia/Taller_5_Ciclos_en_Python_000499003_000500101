{
  "nbformat": 4,
  "nbformat_minor": 0,
  "metadata": {
    "colab": {
      "provenance": [],
      "authorship_tag": "ABX9TyPlzChx3RAymnlX8aZG10GD",
      "include_colab_link": true
    },
    "kernelspec": {
      "name": "python3",
      "display_name": "Python 3"
    },
    "language_info": {
      "name": "python"
    }
  },
  "cells": [
    {
      "cell_type": "markdown",
      "metadata": {
        "id": "view-in-github",
        "colab_type": "text"
      },
      "source": [
        "<a href=\"https://colab.research.google.com/github/Nordosgoitia/Taller_5_Ciclos_en_Python_000499003_000500101/blob/main/Untitled2.ipynb\" target=\"_parent\"><img src=\"https://colab.research.google.com/assets/colab-badge.svg\" alt=\"Open In Colab\"/></a>"
      ]
    },
    {
      "cell_type": "markdown",
      "source": [
        "#Taller #5. Ciclos en Python\n",
        "\n",
        "- Nataly Ordosgoitia Contreras\n",
        "\n",
        "Id: 000499003\n",
        "\n",
        "Nataly.ordosgoitia@upb.edu.co\n",
        "\n",
        "- Camilo Salgado Alvarez\n",
        "\n",
        "Id: 000500101\n",
        "\n",
        "Camilo.salgado@upb.edu.co\n",
        "\n",
        "\n"
      ],
      "metadata": {
        "id": "NXgztaUNoYyk"
      }
    },
    {
      "cell_type": "markdown",
      "source": [
        "1. Escribe un programa en Python que solicite al usuario un número entero positivo n y luego imprima los primeros números naturales usando un ciclo while.\n"
      ],
      "metadata": {
        "id": "wmmi22M2pWjm"
      }
    },
    {
      "cell_type": "code",
      "source": [
        "try:\n",
        "    n = int(input(\"Ingresa un número entero positivo: \"))\n",
        "    if n <= 0:\n",
        "        print(\"Por favor, ingresa un número entero positivo.\")\n",
        "    else:\n",
        "        contador = 1\n",
        "        print(f\"Los primeros {n} números naturales son:\")\n",
        "        while contador <= n:\n",
        "            print(contador, end=' ')\n",
        "            contador += 1\n",
        "except ValueError:\n",
        "    print(\"Por favor, ingresa un número entero válido.\")"
      ],
      "metadata": {
        "colab": {
          "base_uri": "https://localhost:8080/"
        },
        "id": "rc2GK-4gpnz-",
        "outputId": "c4f4e91a-ab0c-4bea-f372-fd4ef5f45fe5"
      },
      "execution_count": 1,
      "outputs": [
        {
          "output_type": "stream",
          "name": "stdout",
          "text": [
            "Ingresa un número entero positivo: 18\n",
            "Los primeros 18 números naturales son:\n",
            "1 2 3 4 5 6 7 8 9 10 11 12 13 14 15 16 17 18 "
          ]
        }
      ]
    },
    {
      "cell_type": "markdown",
      "source": [
        "2. Escribe un programa en Python que calcule la suma de todos los números pares del 1 al 100 utilizando un ciclo for.\n",
        "\n"
      ],
      "metadata": {
        "id": "A8MEh-ooqNFR"
      }
    },
    {
      "cell_type": "code",
      "source": [
        "suma_pares = 0\n",
        "\n",
        "for numero in range(2, 101, 2):\n",
        "    suma_pares += numero\n",
        "\n",
        "print(\"La suma de todos los números pares del 1 al 100 es:\", suma_pares)"
      ],
      "metadata": {
        "colab": {
          "base_uri": "https://localhost:8080/"
        },
        "id": "62szMQHWqbHL",
        "outputId": "63af5b90-c4d7-427f-9bcc-88e93330e075"
      },
      "execution_count": 2,
      "outputs": [
        {
          "output_type": "stream",
          "name": "stdout",
          "text": [
            "La suma de todos los números pares del 1 al 100 es: 2550\n"
          ]
        }
      ]
    },
    {
      "cell_type": "markdown",
      "source": [
        "Escribe un programa en Python que imprima el siguiente patrón u;lizando ciclos\n",
        "anidados:\n",
        "\n",
        "1\n",
        "\n",
        "12\n",
        "\n",
        "123\n",
        "\n",
        "1234\n",
        "\n",
        "12345\n",
        "\n",
        "Etc…."
      ],
      "metadata": {
        "id": "1dbgPBuUr30x"
      }
    },
    {
      "cell_type": "code",
      "source": [
        "n = int(input(\"Ingrese el número de filas para el patrón: \"))\n",
        "\n",
        "for i in range(1, n + 1):\n",
        "    for j in range(1, i + 1):\n",
        "        print(j, end='')\n",
        "    print()"
      ],
      "metadata": {
        "colab": {
          "base_uri": "https://localhost:8080/"
        },
        "id": "krmJ67iKr6fo",
        "outputId": "723b5a25-d785-4546-e912-c3253f690558"
      },
      "execution_count": 3,
      "outputs": [
        {
          "output_type": "stream",
          "name": "stdout",
          "text": [
            "Ingrese el número de filas para el patrón: 10\n",
            "1\n",
            "12\n",
            "123\n",
            "1234\n",
            "12345\n",
            "123456\n",
            "1234567\n",
            "12345678\n",
            "123456789\n",
            "12345678910\n"
          ]
        }
      ]
    },
    {
      "cell_type": "markdown",
      "source": [
        "4. Escribe un programa en Python que solicite al usuario un número entero positivo y\n",
        "luego determine si ese número es primo o no utilizando un ciclo while."
      ],
      "metadata": {
        "id": "aSEdFvRis6lS"
      }
    },
    {
      "cell_type": "code",
      "source": [
        "try:\n",
        "    numero = int(input(\"Ingresa un número entero positivo: \"))\n",
        "\n",
        "    if numero <= 0:\n",
        "        print(\"Por favor, ingresa un número entero positivo mayor que 0.\")\n",
        "    else:\n",
        "        es_primo = True\n",
        "        divisor = 2\n",
        "\n",
        "        while divisor <= numero // 2:\n",
        "            if numero % divisor == 0:\n",
        "                es_primo = False\n",
        "                break\n",
        "            divisor += 1\n",
        "\n",
        "        if es_primo:\n",
        "            print(f\"{numero} es un número primo.\")\n",
        "        else:\n",
        "            print(f\"{numero} no es un número primo.\")\n",
        "except ValueError:\n",
        "    print(\"Por favor, ingresa un número entero válido.\")\n"
      ],
      "metadata": {
        "colab": {
          "base_uri": "https://localhost:8080/"
        },
        "id": "CyA3fIjcr7fV",
        "outputId": "befd6117-0286-44fb-d7ea-32568f16c9f2"
      },
      "execution_count": 7,
      "outputs": [
        {
          "output_type": "stream",
          "name": "stdout",
          "text": [
            "Ingresa un número entero positivo: 10\n",
            "10 no es un número primo.\n"
          ]
        }
      ]
    },
    {
      "cell_type": "markdown",
      "source": [
        "5. Escribe un programa en Python que incluya un ciclo while que no se detenga hasta\n",
        "que el usuario ingrese \"salir\" como entrada. Dentro del ciclo, permite al usuario\n",
        "realizar operaciones matemáticas simples como suma, resta, multiplicación o\n",
        "división."
      ],
      "metadata": {
        "id": "rUsg2Yqet2yh"
      }
    },
    {
      "cell_type": "code",
      "source": [
        "while True:\n",
        "    operacion = input(\"Ingresa una operación (suma, resta, multiplicacion, division) o 'salir' para salir: \").lower()\n",
        "\n",
        "    if operacion == 'salir':\n",
        "        break  # Sale del ciclo si el usuario ingresa \"salir\"\n",
        "\n",
        "    if operacion in ('suma', 'resta', 'multiplicacion', 'division'):\n",
        "        num1 = float(input(\"Ingresa el primer número: \"))\n",
        "        num2 = float(input(\"Ingresa el segundo número: \"))\n",
        "\n",
        "        if operacion == 'suma':\n",
        "            resultado = num1 + num2\n",
        "        elif operacion == 'resta':\n",
        "            resultado = num1 - num2\n",
        "        elif operacion == 'multiplicacion':\n",
        "            resultado = num1 * num2\n",
        "        elif operacion == 'division':\n",
        "            if num2 == 0:\n",
        "                print(\"No se puede dividir por cero.\")\n",
        "                continue  # Continúa al siguiente ciclo\n",
        "            resultado = num1 / num2\n",
        "\n",
        "        print(f\"El resultado de la {operacion} es: {resultado}\")\n",
        "    else:\n",
        "        print(\"Operación no válida. Por favor, ingresa una operación válida.\")\n"
      ],
      "metadata": {
        "colab": {
          "base_uri": "https://localhost:8080/"
        },
        "id": "cehF5URstd5-",
        "outputId": "b0221533-5d4e-41be-cf1a-0602c3f01217"
      },
      "execution_count": 8,
      "outputs": [
        {
          "name": "stdout",
          "output_type": "stream",
          "text": [
            "Ingresa una operación (suma, resta, multiplicacion, division) o 'salir' para salir: suma\n",
            "Ingresa el primer número: 10\n",
            "Ingresa el segundo número: 10\n",
            "El resultado de la suma es: 20.0\n",
            "Ingresa una operación (suma, resta, multiplicacion, division) o 'salir' para salir: resta\n",
            "Ingresa el primer número: 10\n",
            "Ingresa el segundo número: 10\n",
            "El resultado de la resta es: 0.0\n",
            "Ingresa una operación (suma, resta, multiplicacion, division) o 'salir' para salir: multiplicacion\n",
            "Ingresa el primer número: 10\n",
            "Ingresa el segundo número: 10\n",
            "El resultado de la multiplicacion es: 100.0\n",
            "Ingresa una operación (suma, resta, multiplicacion, division) o 'salir' para salir: division\n",
            "Ingresa el primer número: 10\n",
            "Ingresa el segundo número: 10\n",
            "El resultado de la division es: 1.0\n",
            "Ingresa una operación (suma, resta, multiplicacion, division) o 'salir' para salir: salir\n"
          ]
        }
      ]
    },
    {
      "cell_type": "markdown",
      "source": [
        "6. Escribe un programa en Python que imprima los números del 1 al número ingresado\n",
        "por el usuario, en orden descendente utilizando un ciclo for y la función range()."
      ],
      "metadata": {
        "id": "3HXYwG_WutCh"
      }
    },
    {
      "cell_type": "code",
      "source": [
        "try:\n",
        "    numero = int(input(\"Ingresa un número entero: \"))\n",
        "\n",
        "    if numero <= 0:\n",
        "        print(\"Por favor, ingresa un número entero positivo.\")\n",
        "    else:\n",
        "        print(f\"Números del 1 al {numero} en orden descendente:\")\n",
        "        for i in range(numero, 0, -1):\n",
        "            print(i)\n",
        "except ValueError:\n",
        "    print(\"Por favor, ingresa un número entero válido.\")"
      ],
      "metadata": {
        "colab": {
          "base_uri": "https://localhost:8080/"
        },
        "id": "1TLX-8K6uX6G",
        "outputId": "c9e34281-cf56-47f7-924d-f4086a4bebf5"
      },
      "execution_count": 11,
      "outputs": [
        {
          "output_type": "stream",
          "name": "stdout",
          "text": [
            "Ingresa un número entero: 11\n",
            "Números del 1 al 11 en orden descendente:\n",
            "11\n",
            "10\n",
            "9\n",
            "8\n",
            "7\n",
            "6\n",
            "5\n",
            "4\n",
            "3\n",
            "2\n",
            "1\n"
          ]
        }
      ]
    },
    {
      "cell_type": "markdown",
      "source": [
        "7. Escribe un programa en Python que imprima la secuencia de números de Fibonacci\n",
        "hasta un valor dado n utilizando un ciclo while."
      ],
      "metadata": {
        "id": "-iYnA2eywrCd"
      }
    },
    {
      "cell_type": "code",
      "source": [
        "try:\n",
        "    n = int(input(\"Ingresa un número entero para la secuencia de Fibonacci: \"))\n",
        "\n",
        "    if n < 0:\n",
        "        print(\"Por favor, ingresa un número entero no negativo.\")\n",
        "    else:\n",
        "        a, b = 0, 1\n",
        "        print(\"Secuencia de Fibonacci hasta el término\", n, \":\")\n",
        "        print(a)  # Imprime el primer término (0) de la secuencia\n",
        "\n",
        "        while b <= n:\n",
        "            print(b)\n",
        "            a, b = b, a + b\n",
        "except ValueError:\n",
        "    print(\"Por favor, ingresa un número entero válido.\")\n"
      ],
      "metadata": {
        "colab": {
          "base_uri": "https://localhost:8080/"
        },
        "id": "PZc3wKJWwRrr",
        "outputId": "9bdd74bb-e050-411a-fc63-c84dd618910d"
      },
      "execution_count": 13,
      "outputs": [
        {
          "output_type": "stream",
          "name": "stdout",
          "text": [
            "Ingresa un número entero para la secuencia de Fibonacci: 13\n",
            "Secuencia de Fibonacci hasta el término 13 :\n",
            "0\n",
            "1\n",
            "1\n",
            "2\n",
            "3\n",
            "5\n",
            "8\n",
            "13\n"
          ]
        }
      ]
    },
    {
      "cell_type": "markdown",
      "source": [
        "8. Escribe un programa en Python que solicite al usuario un número entero positivo y\n",
        "luego calcule la suma de sus dígitos utilizando un ciclo while."
      ],
      "metadata": {
        "id": "Agx2SFWLxmzT"
      }
    },
    {
      "cell_type": "code",
      "source": [
        "try:\n",
        "    numero = int(input(\"Ingresa un número entero positivo: \"))\n",
        "\n",
        "    if numero <= 0:\n",
        "        print(\"Por favor, ingresa un número entero positivo.\")\n",
        "    else:\n",
        "        suma_digitos = 0\n",
        "        while numero > 0:\n",
        "            digito = numero % 10  # Obtiene el último dígito\n",
        "            suma_digitos += digito\n",
        "            numero //= 10  # Elimina el último dígito del número original\n",
        "\n",
        "        print(\"La suma de los dígitos del número es:\", suma_digitos)\n",
        "except ValueError:\n",
        "    print(\"Por favor, ingresa un número entero válido.\")\n"
      ],
      "metadata": {
        "colab": {
          "base_uri": "https://localhost:8080/"
        },
        "id": "dvyN3pTGxQV1",
        "outputId": "d887306a-053d-4acf-920c-8d4c78eaaa51"
      },
      "execution_count": 14,
      "outputs": [
        {
          "output_type": "stream",
          "name": "stdout",
          "text": [
            "Ingresa un número entero positivo: 18\n",
            "La suma de los dígitos del número es: 9\n"
          ]
        }
      ]
    },
    {
      "cell_type": "code",
      "source": [],
      "metadata": {
        "id": "yO4bTIr_yEe2"
      },
      "execution_count": null,
      "outputs": []
    }
  ]
}